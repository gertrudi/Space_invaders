{
 "cells": [
  {
   "cell_type": "code",
   "execution_count": null,
   "metadata": {},
   "outputs": [],
   "source": []
  },
  {
   "cell_type": "code",
   "execution_count": 9,
   "metadata": {},
   "outputs": [
    {
     "name": "stdout",
     "output_type": "stream",
     "text": [
      "2+2\n"
     ]
    }
   ],
   "source": [
    "# booleanos\n",
    "print(type(True), type(False))\n",
    "\n"
   ]
  },
  {
   "cell_type": "code",
   "execution_count": 4,
   "metadata": {},
   "outputs": [
    {
     "name": "stdout",
     "output_type": "stream",
     "text": [
      "454\n"
     ]
    }
   ],
   "source": [
    "player_x = 1024\n",
    "player_y = 570\n",
    "print(player_x - player_y)"
   ]
  },
  {
   "cell_type": "code",
   "execution_count": 6,
   "metadata": {},
   "outputs": [
    {
     "name": "stdout",
     "output_type": "stream",
     "text": [
      "1.7964912280701755\n"
     ]
    }
   ],
   "source": [
    "player_x = 1024\n",
    "player_y = 570\n",
    "print(player_x / player_y)"
   ]
  },
  {
   "cell_type": "code",
   "execution_count": 5,
   "metadata": {},
   "outputs": [
    {
     "name": "stdout",
     "output_type": "stream",
     "text": [
      "583680\n"
     ]
    }
   ],
   "source": [
    "player_x = 1024\n",
    "player_y = 570\n",
    "print(player_x * player_y)"
   ]
  },
  {
   "cell_type": "code",
   "execution_count": 11,
   "metadata": {},
   "outputs": [
    {
     "name": "stdout",
     "output_type": "stream",
     "text": [
      "<class 'str'>\n"
     ]
    }
   ],
   "source": [
    "nombre_user = input( \"Ingrese su nombre\"  )\n",
    "print(type(nombre_user))"
   ]
  },
  {
   "cell_type": "markdown",
   "metadata": {},
   "source": [
    "# Condicionales\n",
    "# ejecucuion alternatinativa\n",
    "# secuenciales\n",
    "# anidados"
   ]
  },
  {
   "cell_type": "code",
   "execution_count": 16,
   "metadata": {},
   "outputs": [
    {
     "name": "stdout",
     "output_type": "stream",
     "text": [
      "correcto, el numero es mayor\n",
      "correcto,\n",
      "correcto\n"
     ]
    }
   ],
   "source": [
    "# oepradores de comparacion \n",
    "valor_user = int(input(\"ingresa numero \"))\n",
    "\n",
    "# operador ==\n",
    "if valor_user == 5:\n",
    "    print(\"correcto, son iguales los numeros\")\n",
    "# operador >\n",
    "if valor_user > 5:\n",
    "    print(\"correcto, el numero es mayor\")\n",
    "# operador <\n",
    "if valor_user < 5:\n",
    "    print(\"correcto, el numero es menor\")\n",
    "# operador >=\n",
    "if valor_user >= 5:\n",
    "    print(\"correcto,\")\n",
    "# operador <=\n",
    "if valor_user <= 5:\n",
    "    print(\"correcto\")\n",
    "# operador !=\n",
    "if valor_user != 5:\n",
    "    print(\"correcto\")\n",
    "\n"
   ]
  },
  {
   "cell_type": "code",
   "execution_count": 22,
   "metadata": {},
   "outputs": [
    {
     "name": "stdout",
     "output_type": "stream",
     "text": [
      "True\n",
      "False\n",
      "True\n"
     ]
    }
   ],
   "source": [
    "print (not 2 > 3)\n",
    "print (2 > 1 and 0 >0.5 )\n",
    "print(8 > 1 or 9 < 0)"
   ]
  },
  {
   "cell_type": "code",
   "execution_count": 24,
   "metadata": {},
   "outputs": [
    {
     "name": "stdout",
     "output_type": "stream",
     "text": [
      "Contrasena incorrecta\n"
     ]
    }
   ],
   "source": [
    "contra = \"1234\"\n",
    "user_contra = input(\"ingrese su contrasena \")\n",
    "\n",
    "if contra == user_contra:\n",
    "    print(\"bienvenido\")\n",
    "else:\n",
    "    print(\"Contrasena incorrecta\")"
   ]
  },
  {
   "cell_type": "code",
   "execution_count": 32,
   "metadata": {},
   "outputs": [],
   "source": [
    "nombre_user1 = input(\"ingrese su nombre usuario 1\")\n",
    "nombre_user2 = input(\"ingrese su nombre usuario 2\")\n",
    "\n",
    "elecccion_user1 = input(\"piedra (p), papel (pa) o tijeras (t) \")\n",
    "elecccion_user2 = input(\"piedra (p), papel (pa) o tijeras (t) \")\n",
    "\n",
    "if elecccion_user1 == elecccion_user2:\n",
    "    print(f\"el usuario {nombre_user1} y el usuario {nombre_user2} \")\n",
    "elif elecccion_user1 == \"p\" and elecccion_user2 == \"pa\":\n",
    "    print(f\"{nombre_user2} gano!\")"
   ]
  },
  {
   "cell_type": "code",
   "execution_count": 5,
   "metadata": {},
   "outputs": [],
   "source": [
    "a = int(input(\"ingrese un numero \"))\n",
    "b = int(input(\"ingrese un numero \"))\n",
    "c = int(input(\"ingrese un numero \"))\n",
    "\n",
    "if a > b:\n",
    "    if a>c:\n",
    "        print(f\"El mayor es {a}\")\n",
    "    elif a < c:\n",
    "        print(f\"El mayor es {c}\")\n",
    "    else:\n",
    "        print(f\"los mayores son {a} y {c}\")"
   ]
  },
  {
   "cell_type": "code",
   "execution_count": 8,
   "metadata": {},
   "outputs": [
    {
     "name": "stdout",
     "output_type": "stream",
     "text": [
      "<class 'list'>\n",
      "['compota', 'leche', 'limones', 'pan', 'cambur', 'yogurt']\n",
      "compota\n"
     ]
    }
   ],
   "source": [
    "lista_de_compras = [\"compota\", \"leche\", \"limones\", \"pan\", \"cambur\", \"yogurt\"]\n",
    "\n",
    "print(type(lista_de_compras))\n",
    "print(lista_de_compras)\n",
    "print(lista_de_compras[0])"
   ]
  },
  {
   "cell_type": "code",
   "execution_count": 11,
   "metadata": {},
   "outputs": [
    {
     "name": "stdout",
     "output_type": "stream",
     "text": [
      "Se ha anadido el elemento arroz\n",
      "['compota', 'leche', 'limones', 'pan', 'cambur', 'yogurt', 'arroz']\n",
      "7\n"
     ]
    }
   ],
   "source": [
    "lista_de_compras = [\"compota\", \"leche\", \"limones\", \"pan\", \"cambur\", \"yogurt\"]\n",
    "nuevo = input(\"Ingrese su item \")\n",
    "\n",
    "lista_de_compras.append(nuevo)\n",
    "print(f\"Se ha anadido el elemento {nuevo}\")\n",
    "\n",
    "print(lista_de_compras)\n",
    "print(len(lista_de_compras))"
   ]
  },
  {
   "cell_type": "code",
   "execution_count": 15,
   "metadata": {},
   "outputs": [
    {
     "name": "stdout",
     "output_type": "stream",
     "text": [
      "[2.5, 7, 315.6]\n",
      "[2.5, 7]\n"
     ]
    }
   ],
   "source": [
    "lista_de_precios = [100, 2.5, 7, 315.6]\n",
    "lista_de_precios.remove(100)\n",
    "print(lista_de_precios)\n",
    "lista_de_precios.pop()\n",
    "print(lista_de_precios)"
   ]
  },
  {
   "cell_type": "code",
   "execution_count": 17,
   "metadata": {},
   "outputs": [
    {
     "name": "stdout",
     "output_type": "stream",
     "text": [
      "6\n",
      "compota\n",
      "leche\n",
      "limones\n",
      "pan\n",
      "cambur\n",
      "yogurt\n"
     ]
    }
   ],
   "source": [
    "lista_de_compras = [\"compota\", \"leche\", \"limones\", \"pan\", \"cambur\", \"yogurt\"]\n",
    "\n",
    "print(len(lista_de_compras))\n",
    "\n",
    "for item in lista_de_compras:\n",
    "    print(item)"
   ]
  },
  {
   "cell_type": "code",
   "execution_count": 26,
   "metadata": {},
   "outputs": [
    {
     "name": "stdout",
     "output_type": "stream",
     "text": [
      "7\n",
      "hoy es martes\n"
     ]
    }
   ],
   "source": [
    "lista_dias_de_la_semana = [\"lunes\", \"martes\", \"miercoles\", \"jueves\", \"viernes\", \"sabado\", \"domingo\"]\n",
    "\n",
    "hoy = \"martes\"\n",
    "\n",
    "print(len(lista_dias_de_la_semana))\n",
    "\n",
    "for item in lista_dias_de_la_semana:\n",
    "    \n",
    "    if item == hoy:\n",
    "        print(\"hoy es martes\")"
   ]
  },
  {
   "cell_type": "code",
   "execution_count": 34,
   "metadata": {},
   "outputs": [
    {
     "name": "stdout",
     "output_type": "stream",
     "text": [
      "el numero no esta en la lista\n"
     ]
    }
   ],
   "source": [
    "lista_de_numeros = [1, 2, 3, 4, 5]\n",
    "\n",
    "# np = lista_de_numeros[5]\n",
    "encontrar = int(input(\"ingresa un numero\"))\n",
    "for item in lista_de_numeros:\n",
    "    if item == encontrar:\n",
    "        print(\"el numero esta en la lista \")\n",
    "else:        \n",
    "    print(\"el numero no esta en la lista\")\n"
   ]
  }
 ],
 "metadata": {
  "kernelspec": {
   "display_name": "Python 3",
   "language": "python",
   "name": "python3"
  },
  "language_info": {
   "codemirror_mode": {
    "name": "ipython",
    "version": 3
   },
   "file_extension": ".py",
   "mimetype": "text/x-python",
   "name": "python",
   "nbconvert_exporter": "python",
   "pygments_lexer": "ipython3",
   "version": "3.11.4"
  },
  "orig_nbformat": 4
 },
 "nbformat": 4,
 "nbformat_minor": 2
}
