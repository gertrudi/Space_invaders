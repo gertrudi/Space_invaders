{
 "cells": [
  {
   "cell_type": "markdown",
   "metadata": {},
   "source": [
    "# Mike y los Planetas:\n"
   ]
  },
  {
   "cell_type": "code",
   "execution_count": 21,
   "metadata": {},
   "outputs": [
    {
     "name": "stdout",
     "output_type": "stream",
     "text": [
      "Su peso en Marte es de: 7.653061224489796\n"
     ]
    }
   ],
   "source": [
    "listas_de_planetas = [\"Marte\", \"Jupiter\", \"Urano\"]\n",
    "input_planeta = input(\"Ingresa el nombre del planeta:\")\n",
    "Tierra = 9.8\n",
    "Mike = 75\n",
    "\n",
    "for item in Listas_de_planetas:\n",
    "    if item == input_planeta:\n",
    "        total_peso = Mike * item\n",
    "        print(f\"Su peso en {input_planeta} es de: {(Mike / Tierra)}\" )"
   ]
  },
  {
   "cell_type": "markdown",
   "metadata": {},
   "source": [
    "# Convertidor de F° a C° y de C° y F°:"
   ]
  },
  {
   "cell_type": "code",
   "execution_count": 3,
   "metadata": {},
   "outputs": [
    {
     "name": "stdout",
     "output_type": "stream",
     "text": [
      "La conversion de grados celsius es: 1.6666666666666667\n"
     ]
    }
   ],
   "source": [
    "#Convertidor grados fahrenheit a celsius \n",
    "#c = (f-32) x 5/9 \n",
    "\n",
    "\n",
    "def convertir(f):\n",
    "    c = (f-32) * 5/9\n",
    "    return c\n",
    "\n",
    "\n",
    "f = float(input(\"Ingresa los grados a fahrenheit: \"))\n",
    "print(f\"La conversion de grados celsius es: {convertir(f)}\")"
   ]
  },
  {
   "cell_type": "code",
   "execution_count": 4,
   "metadata": {},
   "outputs": [
    {
     "name": "stdout",
     "output_type": "stream",
     "text": [
      "La conversion a grados fahrenheit es: 82.4\n"
     ]
    }
   ],
   "source": [
    "#Convertidor grados celsius a fahrenheit\n",
    "# f = (c * 9/5) + 32;\n",
    "\n",
    "\n",
    "def convertir(c):\n",
    "    return (c * 9/5) + 32\n",
    "\n",
    "\n",
    "n = float(input(\"Ingresa los grados celsius: \"))\n",
    "print(f\"La conversion a grados fahrenheit es: {convertir(n)}\")"
   ]
  },
  {
   "cell_type": "code",
   "execution_count": 3,
   "metadata": {},
   "outputs": [
    {
     "name": "stdout",
     "output_type": "stream",
     "text": [
      "10 grados Celsius es igual a 50.0 grados Farenheit.\n"
     ]
    }
   ],
   "source": [
    "opcion = input(\"¿Desea convertir de C° a F° o de F° a C°? Ingrese 'cf' o 'fc': \")\n",
    "temperatura = int(input(\"Introduzca la temperatura que desee convertir: \"))\n",
    "\n",
    "if opcion == \"cf\":\n",
    "    fahrenheit = temperatura * 1.8 + 32\n",
    "    print(f\"{temperatura} grados Celsius es igual a {fahrenheit} grados Farenheit.\")\n",
    "elif opcion == \"fc\":\n",
    "    celsius = (temperatura - 32) / 1.8\n",
    "    print(f\"{temperatura} grados Farenheit es igual a {celsius} grados Celsius.\")\n",
    "else:\n",
    "    print(\"Opcion no valida. Por Favor, introduzca 'cf' o 'fc'.\")"
   ]
  },
  {
   "cell_type": "markdown",
   "metadata": {},
   "source": [
    "# FizzBuzz:"
   ]
  },
  {
   "cell_type": "code",
   "execution_count": 17,
   "metadata": {},
   "outputs": [
    {
     "name": "stdout",
     "output_type": "stream",
     "text": [
      "1\n",
      "2\n",
      "fizz\n",
      "4\n",
      "buzz\n",
      "fizz\n",
      "7\n",
      "8\n",
      "fizz\n",
      "buzz\n",
      "11\n",
      "fizz\n",
      "13\n",
      "14\n",
      "fizzbuzz\n",
      "16\n",
      "17\n",
      "fizz\n",
      "19\n",
      "buzz\n",
      "fizz\n",
      "22\n",
      "23\n",
      "fizz\n",
      "buzz\n",
      "26\n",
      "fizz\n",
      "28\n",
      "29\n",
      "fizzbuzz\n",
      "31\n",
      "32\n",
      "fizz\n",
      "34\n",
      "buzz\n",
      "fizz\n",
      "37\n",
      "38\n",
      "fizz\n",
      "buzz\n",
      "41\n",
      "fizz\n",
      "43\n",
      "44\n",
      "fizzbuzz\n",
      "46\n",
      "47\n",
      "fizz\n",
      "49\n",
      "buzz\n",
      "fizz\n",
      "52\n",
      "53\n",
      "fizz\n",
      "buzz\n",
      "56\n",
      "fizz\n",
      "58\n",
      "59\n",
      "fizzbuzz\n",
      "61\n",
      "62\n",
      "fizz\n",
      "64\n",
      "buzz\n",
      "fizz\n",
      "67\n",
      "68\n",
      "fizz\n",
      "buzz\n",
      "71\n",
      "fizz\n",
      "73\n",
      "74\n",
      "fizzbuzz\n",
      "76\n",
      "77\n",
      "fizz\n",
      "79\n",
      "buzz\n",
      "fizz\n",
      "82\n",
      "83\n",
      "fizz\n",
      "buzz\n",
      "86\n",
      "fizz\n",
      "88\n",
      "89\n",
      "fizzbuzz\n",
      "91\n",
      "92\n",
      "fizz\n",
      "94\n",
      "buzz\n",
      "fizz\n",
      "97\n",
      "98\n",
      "fizz\n",
      "buzz\n"
     ]
    }
   ],
   "source": [
    "\n",
    "for i in range(100):\n",
    "    numero = i + 1\n",
    "    if numero % 3 == numero % 5 == 0:\n",
    "        print(\"fizzbuzz\")\n",
    "    elif numero % 3 == 0:\n",
    "        print(\"fizz\")\n",
    "    elif numero % 5 == 0:\n",
    "        print(\"buzz\") \n",
    "    else:\n",
    "        print(numero)  "
   ]
  }
 ],
 "metadata": {
  "kernelspec": {
   "display_name": "Python 3",
   "language": "python",
   "name": "python3"
  },
  "language_info": {
   "codemirror_mode": {
    "name": "ipython",
    "version": 3
   },
   "file_extension": ".py",
   "mimetype": "text/x-python",
   "name": "python",
   "nbconvert_exporter": "python",
   "pygments_lexer": "ipython3",
   "version": "3.11.4"
  },
  "orig_nbformat": 4
 },
 "nbformat": 4,
 "nbformat_minor": 2
}
